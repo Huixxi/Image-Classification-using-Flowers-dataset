{
 "cells": [
  {
   "cell_type": "code",
   "execution_count": null,
   "metadata": {
    "collapsed": true
   },
   "outputs": [],
   "source": [
    "import tensorflow as tf\n",
    "import numpy as np\n",
    "import random\n",
    "import os\n",
    "import glob\n",
    "import cv2\n",
    "import sys"
   ]
  },
  {
   "cell_type": "markdown",
   "metadata": {},
   "source": [
    "### 生成图片信息文件image_inormation.txt\n",
    "内容格式：图片文件完整路径[blank]label   \n",
    "例：`F:/JupyterN/ELE_Contest/bin/utils/aug_images/4/11465213433_847c4fa261.jpg 4`\n"
   ]
  },
  {
   "cell_type": "code",
   "execution_count": null,
   "metadata": {
    "collapsed": true
   },
   "outputs": [],
   "source": [
    "aug_path = \"F:/JupyterN/ELE_Contest/bin/utils/aug_images/\"\n",
    "with open('./image_information.txt', 'w') as f:\n",
    "    for i in range(1, 6):\n",
    "        for img_info in os.listdir(aug_path + '%d/'%i):\n",
    "            f.write(aug_path + '%d/'%i + img_info + ' ' + str(i) + '\\n')\n",
    "\n",
    "# shuffle the images info\n",
    "img_info = []\n",
    "with open('./image_information.txt', 'r') as f:\n",
    "    for line in f:\n",
    "        img_info.append(line)\n",
    "\n",
    "# 拆分成6个图片信息文件，用于生成6个tfrecords文件\n",
    "random.shuffle(img_info)\n",
    "for i in range(6):\n",
    "    with open('./image_information_%d.txt'%i, 'w') as f:\n",
    "        for j in img_info[i*1000 : i*1000 + 1000]:\n",
    "            f.write(j)"
   ]
  },
  {
   "cell_type": "markdown",
   "metadata": {},
   "source": [
    "### 转换成tfrecords文件"
   ]
  },
  {
   "cell_type": "code",
   "execution_count": null,
   "metadata": {
    "collapsed": true
   },
   "outputs": [],
   "source": [
    "def load_image(addr):\n",
    "    # read an image and resize to (224, 224)\n",
    "    # cv2 load images as BGR, convert it to RGB\n",
    "    img = cv2.imread(addr)\n",
    "    img = cv2.resize(img, (224, 224), interpolation=cv2.INTER_CUBIC)\n",
    "    b, g, r = cv2.split(img)\n",
    "    img = cv2.merge((g, g, g))\n",
    "    img = img.astype(np.float32)\n",
    "    return img"
   ]
  },
  {
   "cell_type": "code",
   "execution_count": null,
   "metadata": {
    "collapsed": true
   },
   "outputs": [],
   "source": [
    "def _int64_feature(value):\n",
    "    return tf.train.Feature(int64_list=tf.train.Int64List(value=[value]))\n",
    "def _bytes_feature(value):\n",
    "    return tf.train.Feature(bytes_list=tf.train.BytesList(value=[value]))\n",
    "for i in range(6):\n",
    "    train_filename = 'train_%d.tfrecords'%i  # address to save the TFRecords file\n",
    "    # open the TFRecords file\n",
    "    writer = tf.python_io.TFRecordWriter(train_filename)\n",
    "    imgdir = './image_information_%d.txt'%i\n",
    "    imglist = codecs.open(imgdir, 'r')\n",
    "\n",
    "    for line in imglist:  \n",
    "        # Load the image\n",
    "        tmp = line.strip().split(' ')\n",
    "        try:\n",
    "            img = load_image(tmp[0])\n",
    "            label = int(tmp[1])\n",
    "        except:\n",
    "            continue\n",
    "\n",
    "        # Create a feature\n",
    "        feature = {'train/label': _int64_feature(label),\n",
    "                   'train/image': _bytes_feature(tf.compat.as_bytes(img.tostring()))}\n",
    "\n",
    "        # Create an example protocol buffer\n",
    "        example = tf.train.Example(features=tf.train.Features(feature=feature))\n",
    "\n",
    "        # Serialize to string and write on the file\n",
    "        writer.write(example.SerializeToString())\n",
    "\n",
    "    writer.close()\n",
    "    sys.stdout.flush()"
   ]
  },
  {
   "cell_type": "markdown",
   "metadata": {},
   "source": [
    "### 从生成的tfrecords文件中读取文件"
   ]
  },
  {
   "cell_type": "code",
   "execution_count": null,
   "metadata": {
    "collapsed": true
   },
   "outputs": [],
   "source": [
    "def read_and_decode(tf_filepath):\n",
    "    \n",
    "    # Create a list of filenames and pass it to a queue\n",
    "    tfrecords_files = glob.glob(tf_filepath+'*.tfrecords')\n",
    "    filename_queue = tf.train.string_input_producer(tfrecords_files)\n",
    "    \n",
    "    # Define a reader and read the next record\n",
    "    reader = tf.TFRecordReader()\n",
    "    _, serialized_example = reader.read(filename_queue)\n",
    "    \n",
    "    # Decode the record read by the reader\n",
    "    features = tf.parse_single_example(serialized_example, \n",
    "                                       features={'train/image': tf.FixedLenFeature([], tf.string),\n",
    "                                                 'train/label': tf.FixedLenFeature([], tf.int64)})\n",
    "    # Convert the image data from string back to the numbers\n",
    "    image = tf.decode_raw(features['train/image'], tf.float32)\n",
    "\n",
    "    # Cast label data into int32\n",
    "    label = tf.cast(features['train/label'], tf.int32)\n",
    "    # Reshape image data into the original shape\n",
    "    image = tf.reshape(image, [224, 224, 3])\n",
    "\n",
    "    # Any preprocessing here ...\n",
    "\n",
    "    # Creates batches by randomly shuffling tensor\n",
    "    images, labels = tf.train.batch([image, label], batch_size=500, capacity=2000, num_threads=64)\n",
    "\n",
    "    return images, tf.one_hot(tf.subtract(labels, 1), 5)"
   ]
  }
 ],
 "metadata": {
  "kernelspec": {
   "display_name": "Python 3",
   "language": "python",
   "name": "python3"
  },
  "language_info": {
   "codemirror_mode": {
    "name": "ipython",
    "version": 3
   },
   "file_extension": ".py",
   "mimetype": "text/x-python",
   "name": "python",
   "nbconvert_exporter": "python",
   "pygments_lexer": "ipython3",
   "version": "3.6.3"
  }
 },
 "nbformat": 4,
 "nbformat_minor": 2
}
