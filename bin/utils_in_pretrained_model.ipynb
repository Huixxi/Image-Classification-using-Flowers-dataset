{
 "cells": [
  {
   "cell_type": "markdown",
   "metadata": {},
   "source": [
    "## 本人在学习迁移学习，使用Keras中的预训练模型（Pretrained Model）时，积累的一些Tricks"
   ]
  },
  {
   "cell_type": "markdown",
   "metadata": {},
   "source": [
    "### 1.Preappend a layer to a model"
   ]
  },
  {
   "cell_type": "code",
   "execution_count": null,
   "metadata": {
    "collapsed": true
   },
   "outputs": [],
   "source": [
    "import tensorflow as tf\n",
    "\n",
    "input_t = tf.keras.Input(shape=(224, 224, 1))\n",
    "conv1 = tf.keras.layers.Conv2D( filters=3, \n",
    "                                kernel_size=(1, 1), \n",
    "                                padding='same',\n",
    "                                name='conv1',\n",
    "                                kernel_initializer=tf.glorot_normal_initializer())(input_t)\n",
    "    \n",
    "bn1 = tf.keras.layers.BatchNormalization(fused=True, name='bn1')(conv1)\n",
    "resnet_output = tf.keras.applications.MobileNet()(bn1)\n",
    "\n",
    "model = tf.keras.models.Model(input_t, resnet_output)"
   ]
  },
  {
   "cell_type": "markdown",
   "metadata": {},
   "source": [
    "### 2. Some tricks on image processing"
   ]
  },
  {
   "cell_type": "code",
   "execution_count": null,
   "metadata": {
    "collapsed": true
   },
   "outputs": [],
   "source": [
    "# image size from (256, 256) to (1, 256, 256)\n",
    "image = np.expand_dims(image, axis=0)\n",
    "\n",
    "# image size from (1, 256, 256) to (1, 256, 256, 1)\n",
    "image = np.expand_dims(image, axis=3)\n",
    "\n",
    "# Grayscale_To_RGB, image: dtype is array\n",
    "image = (image+1)*127\n",
    "uint_image = image.astype(np.uint8) # important convert pixel type from float to uint\n",
    "gray3_image = np.repeat(uint_image, 3, axis=-1)"
   ]
  },
  {
   "cell_type": "markdown",
   "metadata": {},
   "source": [
    "### 3.PB 文件转成graph"
   ]
  },
  {
   "cell_type": "code",
   "execution_count": null,
   "metadata": {
    "collapsed": true
   },
   "outputs": [],
   "source": [
    "## PB file 可视化，转成log文件，通过tensorboard显示\n",
    "import tensorflow as tf\n",
    "from tensorflow.python.platform import gfile\n",
    "with tf.Session() as sess:\n",
    "    model_filename ='./loglog/expert-graph.pb'\n",
    "    with gfile.FastGFile(model_filename, 'rb') as f:\n",
    "        graph_def = tf.GraphDef()\n",
    "        graph_def.ParseFromString(f.read())\n",
    "        g_in = tf.import_graph_def(graph_def)\n",
    "LOGDIR='./mypblog'\n",
    "train_writer = tf.summary.FileWriter(LOGDIR)\n",
    "train_writer.add_graph(sess.graph)"
   ]
  },
  {
   "cell_type": "markdown",
   "metadata": {},
   "source": [
    "### 4.加载PB文件"
   ]
  },
  {
   "cell_type": "code",
   "execution_count": null,
   "metadata": {
    "collapsed": true
   },
   "outputs": [],
   "source": [
    "def load_graph(model_file):\n",
    "    graph = tf.Graph()\n",
    "    graph_def = tf.GraphDef()\n",
    "\n",
    "    with open(model_file, \"rb\") as f:\n",
    "        graph_def.ParseFromString(f.read())\n",
    "    with graph.as_default():\n",
    "        tf.import_graph_def(graph_def)\n",
    "        \n",
    "    return graph\n",
    "\n",
    "model_file = './models/expert-graph.pb'\n",
    "graph = load_graph(model_file)\n",
    "\n",
    "input_op = graph.get_operation_by_name('import/input_1')\n",
    "output_op = graph.get_operation_by_name('import/dense_1')"
   ]
  },
  {
   "cell_type": "markdown",
   "metadata": {},
   "source": [
    "### 5.灰度图去噪"
   ]
  },
  {
   "cell_type": "code",
   "execution_count": null,
   "metadata": {
    "collapsed": true
   },
   "outputs": [],
   "source": [
    "def denoise(img, weight=0.15, eps=1e-3, num_iter_max=200):\n",
    "    u = np.zeros_like(img)\n",
    "    px = np.zeros_like(img)\n",
    "    py = np.zeros_like(img)\n",
    "\n",
    "    nm = np.prod(img.shape[:2])\n",
    "    tau = 0.125\n",
    "\n",
    "    i = 0\n",
    "    while i < num_iter_max:\n",
    "        u_old = u\n",
    "        \n",
    "        # x and y components of u's gradient\n",
    "        ux = np.roll(u, -1, axis=1) - u\n",
    "        uy = np.roll(u, -1, axis=0) - u\n",
    "\n",
    "        # update the dual variable\n",
    "        px_new = px + (tau / weight) * ux\n",
    "        py_new = py + (tau / weight) * uy\n",
    "\n",
    "        norm_new = np.maximum(1, np.sqrt(px_new **2 + py_new ** 2))\n",
    "        px = px_new / norm_new\n",
    "        py = py_new / norm_new\n",
    "\n",
    "        # calculate divergence\n",
    "        rx = np.roll(px, 1, axis=1)\n",
    "        ry = np.roll(py, 1, axis=0)\n",
    "        div_p = (px - rx) + (py - ry)\n",
    "\n",
    "        # update image\n",
    "        u = img + weight * div_p\n",
    "\n",
    "        # calculate error\n",
    "        error = np.linalg.norm(u - u_old) / np.sqrt(nm)\n",
    "    \n",
    "        if i == 0:\n",
    "            err_init = error\n",
    "            err_prev = error\n",
    "        else:\n",
    "            # break if error small enough\n",
    "            if np.abs(err_prev - error) < eps * err_init:\n",
    "                break\n",
    "            else:\n",
    "                e_prev = error\n",
    "\n",
    "        # don't forget to update iterator\n",
    "        i += 1\n",
    "\n",
    "    return u"
   ]
  }
 ],
 "metadata": {
  "kernelspec": {
   "display_name": "Python 3",
   "language": "python",
   "name": "python3"
  },
  "language_info": {
   "codemirror_mode": {
    "name": "ipython",
    "version": 3
   },
   "file_extension": ".py",
   "mimetype": "text/x-python",
   "name": "python",
   "nbconvert_exporter": "python",
   "pygments_lexer": "ipython3",
   "version": "3.6.3"
  }
 },
 "nbformat": 4,
 "nbformat_minor": 2
}
